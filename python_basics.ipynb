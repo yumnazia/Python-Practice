{
 "cells": [
  {
   "cell_type": "markdown",
   "metadata": {},
   "source": [
    "# Assignments: Cleaning Data"
   ]
  },
  {
   "cell_type": "markdown",
   "metadata": {},
   "source": [
    "## 1. Data in Python Request"
   ]
  },
  {
   "cell_type": "markdown",
   "metadata": {},
   "source": [
    "* Read in data from the Excel spreadsheet (Alarm Survey Data.xlsx) and put into a Pandas DataFrame\n",
    "* Check the data type of each column\n",
    "* Convert object columns into numeric or datetime columns, as needed"
   ]
  },
  {
   "cell_type": "code",
   "execution_count": 28,
   "metadata": {},
   "outputs": [],
   "source": [
    "import pandas as pd\n",
    "import numpy as np\n",
    "import seaborn as sns"
   ]
  },
  {
   "cell_type": "code",
   "execution_count": 2,
   "metadata": {},
   "outputs": [],
   "source": [
    "alarm_survey_data = pd.read_excel('../Data/Alarm Survey Data.xlsx')"
   ]
  },
  {
   "cell_type": "code",
   "execution_count": 3,
   "metadata": {},
   "outputs": [
    {
     "data": {
      "text/html": [
       "<div>\n",
       "<style scoped>\n",
       "    .dataframe tbody tr th:only-of-type {\n",
       "        vertical-align: middle;\n",
       "    }\n",
       "\n",
       "    .dataframe tbody tr th {\n",
       "        vertical-align: top;\n",
       "    }\n",
       "\n",
       "    .dataframe thead th {\n",
       "        text-align: right;\n",
       "    }\n",
       "</style>\n",
       "<table border=\"1\" class=\"dataframe\">\n",
       "  <thead>\n",
       "    <tr style=\"text-align: right;\">\n",
       "      <th></th>\n",
       "      <th>survey_id</th>\n",
       "      <th>age</th>\n",
       "      <th>number_of_children</th>\n",
       "      <th>activity_level</th>\n",
       "      <th>sleep_quality</th>\n",
       "      <th>number_of_snoozes</th>\n",
       "      <th>alarm_rating</th>\n",
       "    </tr>\n",
       "  </thead>\n",
       "  <tbody>\n",
       "    <tr>\n",
       "      <th>0</th>\n",
       "      <td>1</td>\n",
       "      <td>34</td>\n",
       "      <td>3.0</td>\n",
       "      <td>active</td>\n",
       "      <td>3.0</td>\n",
       "      <td>1</td>\n",
       "      <td>5 stars</td>\n",
       "    </tr>\n",
       "    <tr>\n",
       "      <th>1</th>\n",
       "      <td>2</td>\n",
       "      <td>31</td>\n",
       "      <td>3.0</td>\n",
       "      <td>light</td>\n",
       "      <td>3.0</td>\n",
       "      <td>3</td>\n",
       "      <td>3 stars</td>\n",
       "    </tr>\n",
       "    <tr>\n",
       "      <th>2</th>\n",
       "      <td>3</td>\n",
       "      <td>18</td>\n",
       "      <td>0.0</td>\n",
       "      <td>light_activity</td>\n",
       "      <td>4.0</td>\n",
       "      <td>1</td>\n",
       "      <td>1 stars</td>\n",
       "    </tr>\n",
       "    <tr>\n",
       "      <th>3</th>\n",
       "      <td>4</td>\n",
       "      <td>42</td>\n",
       "      <td>4.0</td>\n",
       "      <td>active</td>\n",
       "      <td>4.0</td>\n",
       "      <td>1</td>\n",
       "      <td>4 stars</td>\n",
       "    </tr>\n",
       "    <tr>\n",
       "      <th>4</th>\n",
       "      <td>5</td>\n",
       "      <td>30</td>\n",
       "      <td>1.0</td>\n",
       "      <td>light_activity</td>\n",
       "      <td>1.0</td>\n",
       "      <td>4</td>\n",
       "      <td>3 stars</td>\n",
       "    </tr>\n",
       "  </tbody>\n",
       "</table>\n",
       "</div>"
      ],
      "text/plain": [
       "   survey_id  age  number_of_children  activity_level  sleep_quality  \\\n",
       "0          1   34                 3.0          active            3.0   \n",
       "1          2   31                 3.0           light            3.0   \n",
       "2          3   18                 0.0  light_activity            4.0   \n",
       "3          4   42                 4.0          active            4.0   \n",
       "4          5   30                 1.0  light_activity            1.0   \n",
       "\n",
       "   number_of_snoozes alarm_rating  \n",
       "0                  1      5 stars  \n",
       "1                  3      3 stars  \n",
       "2                  1      1 stars  \n",
       "3                  1      4 stars  \n",
       "4                  4      3 stars  "
      ]
     },
     "execution_count": 3,
     "metadata": {},
     "output_type": "execute_result"
    }
   ],
   "source": [
    "alarm_survey_data.head()"
   ]
  },
  {
   "cell_type": "code",
   "execution_count": 4,
   "metadata": {},
   "outputs": [
    {
     "data": {
      "text/plain": [
       "survey_id               int64\n",
       "age                     int64\n",
       "number_of_children    float64\n",
       "activity_level         object\n",
       "sleep_quality         float64\n",
       "number_of_snoozes       int64\n",
       "alarm_rating           object\n",
       "dtype: object"
      ]
     },
     "execution_count": 4,
     "metadata": {},
     "output_type": "execute_result"
    }
   ],
   "source": [
    "alarm_survey_data.dtypes"
   ]
  },
  {
   "cell_type": "code",
   "execution_count": 5,
   "metadata": {},
   "outputs": [],
   "source": [
    "alarm_survey_data['alarm_rating'] = alarm_survey_data['alarm_rating'].str.replace(' stars','')"
   ]
  },
  {
   "cell_type": "code",
   "execution_count": 6,
   "metadata": {},
   "outputs": [
    {
     "data": {
      "text/html": [
       "<div>\n",
       "<style scoped>\n",
       "    .dataframe tbody tr th:only-of-type {\n",
       "        vertical-align: middle;\n",
       "    }\n",
       "\n",
       "    .dataframe tbody tr th {\n",
       "        vertical-align: top;\n",
       "    }\n",
       "\n",
       "    .dataframe thead th {\n",
       "        text-align: right;\n",
       "    }\n",
       "</style>\n",
       "<table border=\"1\" class=\"dataframe\">\n",
       "  <thead>\n",
       "    <tr style=\"text-align: right;\">\n",
       "      <th></th>\n",
       "      <th>survey_id</th>\n",
       "      <th>age</th>\n",
       "      <th>number_of_children</th>\n",
       "      <th>activity_level</th>\n",
       "      <th>sleep_quality</th>\n",
       "      <th>number_of_snoozes</th>\n",
       "      <th>alarm_rating</th>\n",
       "    </tr>\n",
       "  </thead>\n",
       "  <tbody>\n",
       "    <tr>\n",
       "      <th>0</th>\n",
       "      <td>1</td>\n",
       "      <td>34</td>\n",
       "      <td>3.0</td>\n",
       "      <td>active</td>\n",
       "      <td>3.0</td>\n",
       "      <td>1</td>\n",
       "      <td>5</td>\n",
       "    </tr>\n",
       "    <tr>\n",
       "      <th>1</th>\n",
       "      <td>2</td>\n",
       "      <td>31</td>\n",
       "      <td>3.0</td>\n",
       "      <td>light</td>\n",
       "      <td>3.0</td>\n",
       "      <td>3</td>\n",
       "      <td>3</td>\n",
       "    </tr>\n",
       "    <tr>\n",
       "      <th>2</th>\n",
       "      <td>3</td>\n",
       "      <td>18</td>\n",
       "      <td>0.0</td>\n",
       "      <td>light_activity</td>\n",
       "      <td>4.0</td>\n",
       "      <td>1</td>\n",
       "      <td>1</td>\n",
       "    </tr>\n",
       "    <tr>\n",
       "      <th>3</th>\n",
       "      <td>4</td>\n",
       "      <td>42</td>\n",
       "      <td>4.0</td>\n",
       "      <td>active</td>\n",
       "      <td>4.0</td>\n",
       "      <td>1</td>\n",
       "      <td>4</td>\n",
       "    </tr>\n",
       "    <tr>\n",
       "      <th>4</th>\n",
       "      <td>5</td>\n",
       "      <td>30</td>\n",
       "      <td>1.0</td>\n",
       "      <td>light_activity</td>\n",
       "      <td>1.0</td>\n",
       "      <td>4</td>\n",
       "      <td>3</td>\n",
       "    </tr>\n",
       "  </tbody>\n",
       "</table>\n",
       "</div>"
      ],
      "text/plain": [
       "   survey_id  age  number_of_children  activity_level  sleep_quality  \\\n",
       "0          1   34                 3.0          active            3.0   \n",
       "1          2   31                 3.0           light            3.0   \n",
       "2          3   18                 0.0  light_activity            4.0   \n",
       "3          4   42                 4.0          active            4.0   \n",
       "4          5   30                 1.0  light_activity            1.0   \n",
       "\n",
       "   number_of_snoozes alarm_rating  \n",
       "0                  1            5  \n",
       "1                  3            3  \n",
       "2                  1            1  \n",
       "3                  1            4  \n",
       "4                  4            3  "
      ]
     },
     "execution_count": 6,
     "metadata": {},
     "output_type": "execute_result"
    }
   ],
   "source": [
    "alarm_survey_data.head()"
   ]
  },
  {
   "cell_type": "markdown",
   "metadata": {},
   "source": [
    "## 2. Missing Data Check"
   ]
  },
  {
   "cell_type": "markdown",
   "metadata": {},
   "source": [
    "* Find any missing data\n",
    "* Deal with the missing data"
   ]
  },
  {
   "cell_type": "code",
   "execution_count": 7,
   "metadata": {},
   "outputs": [
    {
     "data": {
      "text/plain": [
       "survey_id               0\n",
       "age                     0\n",
       "number_of_children      0\n",
       "activity_level          0\n",
       "sleep_quality         351\n",
       "number_of_snoozes       0\n",
       "alarm_rating            0\n",
       "dtype: int64"
      ]
     },
     "execution_count": 7,
     "metadata": {},
     "output_type": "execute_result"
    }
   ],
   "source": [
    "alarm_survey_data.isna().sum()\n",
    "# there are only NaNs in the sleep_quality column "
   ]
  },
  {
   "cell_type": "code",
   "execution_count": 8,
   "metadata": {},
   "outputs": [
    {
     "data": {
      "text/plain": [
       "351"
      ]
     },
     "execution_count": 8,
     "metadata": {},
     "output_type": "execute_result"
    }
   ],
   "source": [
    "alarm_survey_data.isna().any(axis=1).sum()"
   ]
  },
  {
   "cell_type": "code",
   "execution_count": 9,
   "metadata": {},
   "outputs": [
    {
     "data": {
      "text/html": [
       "<div>\n",
       "<style scoped>\n",
       "    .dataframe tbody tr th:only-of-type {\n",
       "        vertical-align: middle;\n",
       "    }\n",
       "\n",
       "    .dataframe tbody tr th {\n",
       "        vertical-align: top;\n",
       "    }\n",
       "\n",
       "    .dataframe thead th {\n",
       "        text-align: right;\n",
       "    }\n",
       "</style>\n",
       "<table border=\"1\" class=\"dataframe\">\n",
       "  <thead>\n",
       "    <tr style=\"text-align: right;\">\n",
       "      <th></th>\n",
       "      <th>survey_id</th>\n",
       "      <th>age</th>\n",
       "      <th>number_of_children</th>\n",
       "      <th>activity_level</th>\n",
       "      <th>sleep_quality</th>\n",
       "      <th>number_of_snoozes</th>\n",
       "      <th>alarm_rating</th>\n",
       "    </tr>\n",
       "  </thead>\n",
       "  <tbody>\n",
       "    <tr>\n",
       "      <th>10</th>\n",
       "      <td>11</td>\n",
       "      <td>28</td>\n",
       "      <td>2.0</td>\n",
       "      <td>light_activity</td>\n",
       "      <td>NaN</td>\n",
       "      <td>3</td>\n",
       "      <td>4</td>\n",
       "    </tr>\n",
       "    <tr>\n",
       "      <th>18</th>\n",
       "      <td>19</td>\n",
       "      <td>38</td>\n",
       "      <td>2.0</td>\n",
       "      <td>lightly active</td>\n",
       "      <td>NaN</td>\n",
       "      <td>1</td>\n",
       "      <td>5</td>\n",
       "    </tr>\n",
       "    <tr>\n",
       "      <th>23</th>\n",
       "      <td>24</td>\n",
       "      <td>24</td>\n",
       "      <td>2.0</td>\n",
       "      <td>very active</td>\n",
       "      <td>NaN</td>\n",
       "      <td>1</td>\n",
       "      <td>5</td>\n",
       "    </tr>\n",
       "    <tr>\n",
       "      <th>26</th>\n",
       "      <td>27</td>\n",
       "      <td>25</td>\n",
       "      <td>2.0</td>\n",
       "      <td>lightly active</td>\n",
       "      <td>NaN</td>\n",
       "      <td>1</td>\n",
       "      <td>2</td>\n",
       "    </tr>\n",
       "    <tr>\n",
       "      <th>28</th>\n",
       "      <td>29</td>\n",
       "      <td>29</td>\n",
       "      <td>2.0</td>\n",
       "      <td>lightly active</td>\n",
       "      <td>NaN</td>\n",
       "      <td>1</td>\n",
       "      <td>2</td>\n",
       "    </tr>\n",
       "    <tr>\n",
       "      <th>...</th>\n",
       "      <td>...</td>\n",
       "      <td>...</td>\n",
       "      <td>...</td>\n",
       "      <td>...</td>\n",
       "      <td>...</td>\n",
       "      <td>...</td>\n",
       "      <td>...</td>\n",
       "    </tr>\n",
       "    <tr>\n",
       "      <th>6310</th>\n",
       "      <td>6311</td>\n",
       "      <td>30</td>\n",
       "      <td>2.0</td>\n",
       "      <td>very active</td>\n",
       "      <td>NaN</td>\n",
       "      <td>0</td>\n",
       "      <td>3</td>\n",
       "    </tr>\n",
       "    <tr>\n",
       "      <th>6319</th>\n",
       "      <td>6320</td>\n",
       "      <td>44</td>\n",
       "      <td>2.0</td>\n",
       "      <td>lightly active</td>\n",
       "      <td>NaN</td>\n",
       "      <td>0</td>\n",
       "      <td>3</td>\n",
       "    </tr>\n",
       "    <tr>\n",
       "      <th>6375</th>\n",
       "      <td>6309</td>\n",
       "      <td>32</td>\n",
       "      <td>3.0</td>\n",
       "      <td>light</td>\n",
       "      <td>NaN</td>\n",
       "      <td>0</td>\n",
       "      <td>3</td>\n",
       "    </tr>\n",
       "    <tr>\n",
       "      <th>6377</th>\n",
       "      <td>6311</td>\n",
       "      <td>30</td>\n",
       "      <td>2.0</td>\n",
       "      <td>very active</td>\n",
       "      <td>NaN</td>\n",
       "      <td>0</td>\n",
       "      <td>3</td>\n",
       "    </tr>\n",
       "    <tr>\n",
       "      <th>6386</th>\n",
       "      <td>6320</td>\n",
       "      <td>44</td>\n",
       "      <td>2.0</td>\n",
       "      <td>lightly active</td>\n",
       "      <td>NaN</td>\n",
       "      <td>0</td>\n",
       "      <td>3</td>\n",
       "    </tr>\n",
       "  </tbody>\n",
       "</table>\n",
       "<p>351 rows × 7 columns</p>\n",
       "</div>"
      ],
      "text/plain": [
       "      survey_id  age  number_of_children  activity_level  sleep_quality  \\\n",
       "10           11   28                 2.0  light_activity            NaN   \n",
       "18           19   38                 2.0  lightly active            NaN   \n",
       "23           24   24                 2.0     very active            NaN   \n",
       "26           27   25                 2.0  lightly active            NaN   \n",
       "28           29   29                 2.0  lightly active            NaN   \n",
       "...         ...  ...                 ...             ...            ...   \n",
       "6310       6311   30                 2.0     very active            NaN   \n",
       "6319       6320   44                 2.0  lightly active            NaN   \n",
       "6375       6309   32                 3.0           light            NaN   \n",
       "6377       6311   30                 2.0     very active            NaN   \n",
       "6386       6320   44                 2.0  lightly active            NaN   \n",
       "\n",
       "      number_of_snoozes alarm_rating  \n",
       "10                    3            4  \n",
       "18                    1            5  \n",
       "23                    1            5  \n",
       "26                    1            2  \n",
       "28                    1            2  \n",
       "...                 ...          ...  \n",
       "6310                  0            3  \n",
       "6319                  0            3  \n",
       "6375                  0            3  \n",
       "6377                  0            3  \n",
       "6386                  0            3  \n",
       "\n",
       "[351 rows x 7 columns]"
      ]
     },
     "execution_count": 9,
     "metadata": {},
     "output_type": "execute_result"
    }
   ],
   "source": [
    "alarm_survey_data[alarm_survey_data[\"sleep_quality\"].isna()]"
   ]
  },
  {
   "cell_type": "code",
   "execution_count": 10,
   "metadata": {},
   "outputs": [
    {
     "data": {
      "text/plain": [
       "sleep_quality\n",
       "5.0    2721\n",
       "4.0    2261\n",
       "3.0     997\n",
       "NaN     351\n",
       "1.0     103\n",
       "Name: count, dtype: int64"
      ]
     },
     "execution_count": 10,
     "metadata": {},
     "output_type": "execute_result"
    }
   ],
   "source": [
    "alarm_survey_data[\"sleep_quality\"].value_counts(dropna = False)\n",
    "# this shows that the missing value should be a 2, lets substitute with 2 where sleep_quality is NaN"
   ]
  },
  {
   "cell_type": "code",
   "execution_count": 11,
   "metadata": {},
   "outputs": [],
   "source": [
    "#alarm_survey_data[\"sleep_quality\"] = np.where(alarm_survey_data[\"sleep_quality\"].isna(), 2.0, alarm_survey_data[\"sleep_quality\"])"
   ]
  },
  {
   "cell_type": "code",
   "execution_count": 12,
   "metadata": {},
   "outputs": [],
   "source": [
    "alarm_survey_data.fillna(2, inplace = True)"
   ]
  },
  {
   "cell_type": "code",
   "execution_count": 13,
   "metadata": {},
   "outputs": [
    {
     "data": {
      "text/plain": [
       "survey_id             0\n",
       "age                   0\n",
       "number_of_children    0\n",
       "activity_level        0\n",
       "sleep_quality         0\n",
       "number_of_snoozes     0\n",
       "alarm_rating          0\n",
       "dtype: int64"
      ]
     },
     "execution_count": 13,
     "metadata": {},
     "output_type": "execute_result"
    }
   ],
   "source": [
    "alarm_survey_data.isna().sum()"
   ]
  },
  {
   "cell_type": "code",
   "execution_count": 14,
   "metadata": {},
   "outputs": [
    {
     "name": "stdout",
     "output_type": "stream",
     "text": [
      "<class 'pandas.core.frame.DataFrame'>\n",
      "RangeIndex: 6433 entries, 0 to 6432\n",
      "Data columns (total 7 columns):\n",
      " #   Column              Non-Null Count  Dtype  \n",
      "---  ------              --------------  -----  \n",
      " 0   survey_id           6433 non-null   int64  \n",
      " 1   age                 6433 non-null   int64  \n",
      " 2   number_of_children  6433 non-null   float64\n",
      " 3   activity_level      6433 non-null   object \n",
      " 4   sleep_quality       6433 non-null   float64\n",
      " 5   number_of_snoozes   6433 non-null   int64  \n",
      " 6   alarm_rating        6433 non-null   object \n",
      "dtypes: float64(2), int64(3), object(2)\n",
      "memory usage: 351.9+ KB\n"
     ]
    }
   ],
   "source": [
    "alarm_survey_data.info()"
   ]
  },
  {
   "cell_type": "markdown",
   "metadata": {},
   "source": [
    "## 3. Inconsistent Text & Typos Check"
   ]
  },
  {
   "cell_type": "markdown",
   "metadata": {},
   "source": [
    "* Find any inconsistent text and typos\n",
    "* Deal with the inconsistent text and typos"
   ]
  },
  {
   "cell_type": "code",
   "execution_count": 15,
   "metadata": {},
   "outputs": [
    {
     "data": {
      "text/plain": [
       "survey_id               int64\n",
       "age                     int64\n",
       "number_of_children    float64\n",
       "activity_level         object\n",
       "sleep_quality         float64\n",
       "number_of_snoozes       int64\n",
       "alarm_rating           object\n",
       "dtype: object"
      ]
     },
     "execution_count": 15,
     "metadata": {},
     "output_type": "execute_result"
    }
   ],
   "source": [
    "alarm_survey_data.dtypes "
   ]
  },
  {
   "cell_type": "code",
   "execution_count": 16,
   "metadata": {},
   "outputs": [],
   "source": [
    "#alarm_survey_data['number_of_children'] = np.where(alarm_survey_data['number_of_children']>=5.5, 5, alarm_survey_data['number_of_children'])"
   ]
  },
  {
   "cell_type": "code",
   "execution_count": 17,
   "metadata": {},
   "outputs": [
    {
     "data": {
      "text/plain": [
       "activity_level\n",
       "active            2450\n",
       "lightly active    2289\n",
       "light_activity     691\n",
       "very active        669\n",
       "light              334\n",
       "Name: count, dtype: int64"
      ]
     },
     "execution_count": 17,
     "metadata": {},
     "output_type": "execute_result"
    }
   ],
   "source": [
    "alarm_survey_data['activity_level'].value_counts(dropna = False)\n"
   ]
  },
  {
   "cell_type": "code",
   "execution_count": 18,
   "metadata": {},
   "outputs": [],
   "source": [
    "activity_mapping =  {\n",
    "    'lightly active': 'lightly active',\n",
    "    'light': 'lightly active',\n",
    "    'light_activity': 'lightly active',\n",
    "    'active': 'active',\n",
    "    'very active': 'very active'\n",
    "}"
   ]
  },
  {
   "cell_type": "code",
   "execution_count": 19,
   "metadata": {},
   "outputs": [],
   "source": [
    "alarm_survey_data.activity_level = alarm_survey_data.activity_level.map(activity_mapping)"
   ]
  },
  {
   "cell_type": "markdown",
   "metadata": {},
   "source": [
    "## 4. Duplicate Data Check"
   ]
  },
  {
   "cell_type": "markdown",
   "metadata": {},
   "source": [
    "* Find any duplicate data\n",
    "* Deal with the duplicate data"
   ]
  },
  {
   "cell_type": "code",
   "execution_count": 20,
   "metadata": {},
   "outputs": [
    {
     "data": {
      "text/html": [
       "<div>\n",
       "<style scoped>\n",
       "    .dataframe tbody tr th:only-of-type {\n",
       "        vertical-align: middle;\n",
       "    }\n",
       "\n",
       "    .dataframe tbody tr th {\n",
       "        vertical-align: top;\n",
       "    }\n",
       "\n",
       "    .dataframe thead th {\n",
       "        text-align: right;\n",
       "    }\n",
       "</style>\n",
       "<table border=\"1\" class=\"dataframe\">\n",
       "  <thead>\n",
       "    <tr style=\"text-align: right;\">\n",
       "      <th></th>\n",
       "      <th>survey_id</th>\n",
       "      <th>age</th>\n",
       "      <th>number_of_children</th>\n",
       "      <th>activity_level</th>\n",
       "      <th>sleep_quality</th>\n",
       "      <th>number_of_snoozes</th>\n",
       "      <th>alarm_rating</th>\n",
       "    </tr>\n",
       "  </thead>\n",
       "  <tbody>\n",
       "    <tr>\n",
       "      <th>6366</th>\n",
       "      <td>6300</td>\n",
       "      <td>31</td>\n",
       "      <td>2.0</td>\n",
       "      <td>active</td>\n",
       "      <td>5.0</td>\n",
       "      <td>0</td>\n",
       "      <td>3</td>\n",
       "    </tr>\n",
       "    <tr>\n",
       "      <th>6367</th>\n",
       "      <td>6301</td>\n",
       "      <td>27</td>\n",
       "      <td>2.0</td>\n",
       "      <td>lightly active</td>\n",
       "      <td>4.0</td>\n",
       "      <td>0</td>\n",
       "      <td>2</td>\n",
       "    </tr>\n",
       "    <tr>\n",
       "      <th>6368</th>\n",
       "      <td>6302</td>\n",
       "      <td>41</td>\n",
       "      <td>3.0</td>\n",
       "      <td>lightly active</td>\n",
       "      <td>5.0</td>\n",
       "      <td>0</td>\n",
       "      <td>2</td>\n",
       "    </tr>\n",
       "    <tr>\n",
       "      <th>6369</th>\n",
       "      <td>6303</td>\n",
       "      <td>25</td>\n",
       "      <td>0.0</td>\n",
       "      <td>lightly active</td>\n",
       "      <td>5.0</td>\n",
       "      <td>0</td>\n",
       "      <td>5</td>\n",
       "    </tr>\n",
       "    <tr>\n",
       "      <th>6370</th>\n",
       "      <td>6304</td>\n",
       "      <td>25</td>\n",
       "      <td>1.0</td>\n",
       "      <td>lightly active</td>\n",
       "      <td>5.0</td>\n",
       "      <td>0</td>\n",
       "      <td>2</td>\n",
       "    </tr>\n",
       "    <tr>\n",
       "      <th>...</th>\n",
       "      <td>...</td>\n",
       "      <td>...</td>\n",
       "      <td>...</td>\n",
       "      <td>...</td>\n",
       "      <td>...</td>\n",
       "      <td>...</td>\n",
       "      <td>...</td>\n",
       "    </tr>\n",
       "    <tr>\n",
       "      <th>6428</th>\n",
       "      <td>6362</td>\n",
       "      <td>27</td>\n",
       "      <td>2.0</td>\n",
       "      <td>active</td>\n",
       "      <td>5.0</td>\n",
       "      <td>0</td>\n",
       "      <td>5</td>\n",
       "    </tr>\n",
       "    <tr>\n",
       "      <th>6429</th>\n",
       "      <td>6363</td>\n",
       "      <td>31</td>\n",
       "      <td>1.0</td>\n",
       "      <td>lightly active</td>\n",
       "      <td>4.0</td>\n",
       "      <td>0</td>\n",
       "      <td>4</td>\n",
       "    </tr>\n",
       "    <tr>\n",
       "      <th>6430</th>\n",
       "      <td>6364</td>\n",
       "      <td>26</td>\n",
       "      <td>0.0</td>\n",
       "      <td>lightly active</td>\n",
       "      <td>5.0</td>\n",
       "      <td>0</td>\n",
       "      <td>3</td>\n",
       "    </tr>\n",
       "    <tr>\n",
       "      <th>6431</th>\n",
       "      <td>6365</td>\n",
       "      <td>27</td>\n",
       "      <td>1.0</td>\n",
       "      <td>active</td>\n",
       "      <td>5.0</td>\n",
       "      <td>0</td>\n",
       "      <td>3</td>\n",
       "    </tr>\n",
       "    <tr>\n",
       "      <th>6432</th>\n",
       "      <td>6366</td>\n",
       "      <td>18</td>\n",
       "      <td>0.0</td>\n",
       "      <td>lightly active</td>\n",
       "      <td>4.0</td>\n",
       "      <td>0</td>\n",
       "      <td>1</td>\n",
       "    </tr>\n",
       "  </tbody>\n",
       "</table>\n",
       "<p>67 rows × 7 columns</p>\n",
       "</div>"
      ],
      "text/plain": [
       "      survey_id  age  number_of_children  activity_level  sleep_quality  \\\n",
       "6366       6300   31                 2.0          active            5.0   \n",
       "6367       6301   27                 2.0  lightly active            4.0   \n",
       "6368       6302   41                 3.0  lightly active            5.0   \n",
       "6369       6303   25                 0.0  lightly active            5.0   \n",
       "6370       6304   25                 1.0  lightly active            5.0   \n",
       "...         ...  ...                 ...             ...            ...   \n",
       "6428       6362   27                 2.0          active            5.0   \n",
       "6429       6363   31                 1.0  lightly active            4.0   \n",
       "6430       6364   26                 0.0  lightly active            5.0   \n",
       "6431       6365   27                 1.0          active            5.0   \n",
       "6432       6366   18                 0.0  lightly active            4.0   \n",
       "\n",
       "      number_of_snoozes alarm_rating  \n",
       "6366                  0            3  \n",
       "6367                  0            2  \n",
       "6368                  0            2  \n",
       "6369                  0            5  \n",
       "6370                  0            2  \n",
       "...                 ...          ...  \n",
       "6428                  0            5  \n",
       "6429                  0            4  \n",
       "6430                  0            3  \n",
       "6431                  0            3  \n",
       "6432                  0            1  \n",
       "\n",
       "[67 rows x 7 columns]"
      ]
     },
     "execution_count": 20,
     "metadata": {},
     "output_type": "execute_result"
    }
   ],
   "source": [
    "alarm_survey_data[alarm_survey_data.duplicated()]"
   ]
  },
  {
   "cell_type": "code",
   "execution_count": 21,
   "metadata": {},
   "outputs": [
    {
     "data": {
      "text/html": [
       "<div>\n",
       "<style scoped>\n",
       "    .dataframe tbody tr th:only-of-type {\n",
       "        vertical-align: middle;\n",
       "    }\n",
       "\n",
       "    .dataframe tbody tr th {\n",
       "        vertical-align: top;\n",
       "    }\n",
       "\n",
       "    .dataframe thead th {\n",
       "        text-align: right;\n",
       "    }\n",
       "</style>\n",
       "<table border=\"1\" class=\"dataframe\">\n",
       "  <thead>\n",
       "    <tr style=\"text-align: right;\">\n",
       "      <th></th>\n",
       "      <th>survey_id</th>\n",
       "      <th>age</th>\n",
       "      <th>number_of_children</th>\n",
       "      <th>activity_level</th>\n",
       "      <th>sleep_quality</th>\n",
       "      <th>number_of_snoozes</th>\n",
       "      <th>alarm_rating</th>\n",
       "    </tr>\n",
       "  </thead>\n",
       "  <tbody>\n",
       "    <tr>\n",
       "      <th>6302</th>\n",
       "      <td>6303</td>\n",
       "      <td>25</td>\n",
       "      <td>0.0</td>\n",
       "      <td>lightly active</td>\n",
       "      <td>5.0</td>\n",
       "      <td>0</td>\n",
       "      <td>5</td>\n",
       "    </tr>\n",
       "    <tr>\n",
       "      <th>6369</th>\n",
       "      <td>6303</td>\n",
       "      <td>25</td>\n",
       "      <td>0.0</td>\n",
       "      <td>lightly active</td>\n",
       "      <td>5.0</td>\n",
       "      <td>0</td>\n",
       "      <td>5</td>\n",
       "    </tr>\n",
       "  </tbody>\n",
       "</table>\n",
       "</div>"
      ],
      "text/plain": [
       "      survey_id  age  number_of_children  activity_level  sleep_quality  \\\n",
       "6302       6303   25                 0.0  lightly active            5.0   \n",
       "6369       6303   25                 0.0  lightly active            5.0   \n",
       "\n",
       "      number_of_snoozes alarm_rating  \n",
       "6302                  0            5  \n",
       "6369                  0            5  "
      ]
     },
     "execution_count": 21,
     "metadata": {},
     "output_type": "execute_result"
    }
   ],
   "source": [
    "alarm_survey_data[alarm_survey_data['survey_id'] == 6303]"
   ]
  },
  {
   "cell_type": "code",
   "execution_count": 22,
   "metadata": {},
   "outputs": [],
   "source": [
    "alarm_survey_data.drop_duplicates(inplace = True)"
   ]
  },
  {
   "cell_type": "code",
   "execution_count": 23,
   "metadata": {},
   "outputs": [
    {
     "data": {
      "text/plain": [
       "0"
      ]
     },
     "execution_count": 23,
     "metadata": {},
     "output_type": "execute_result"
    }
   ],
   "source": [
    "alarm_survey_data.duplicated().sum()"
   ]
  },
  {
   "cell_type": "markdown",
   "metadata": {},
   "source": [
    "## 5. Outliers Check"
   ]
  },
  {
   "cell_type": "markdown",
   "metadata": {},
   "source": [
    "* Find any outliers\n",
    "* Deal with the outliers"
   ]
  },
  {
   "cell_type": "code",
   "execution_count": 24,
   "metadata": {},
   "outputs": [
    {
     "data": {
      "text/html": [
       "<div>\n",
       "<style scoped>\n",
       "    .dataframe tbody tr th:only-of-type {\n",
       "        vertical-align: middle;\n",
       "    }\n",
       "\n",
       "    .dataframe tbody tr th {\n",
       "        vertical-align: top;\n",
       "    }\n",
       "\n",
       "    .dataframe thead th {\n",
       "        text-align: right;\n",
       "    }\n",
       "</style>\n",
       "<table border=\"1\" class=\"dataframe\">\n",
       "  <thead>\n",
       "    <tr style=\"text-align: right;\">\n",
       "      <th></th>\n",
       "      <th>survey_id</th>\n",
       "      <th>age</th>\n",
       "      <th>number_of_children</th>\n",
       "      <th>activity_level</th>\n",
       "      <th>sleep_quality</th>\n",
       "      <th>number_of_snoozes</th>\n",
       "      <th>alarm_rating</th>\n",
       "    </tr>\n",
       "  </thead>\n",
       "  <tbody>\n",
       "    <tr>\n",
       "      <th>0</th>\n",
       "      <td>1</td>\n",
       "      <td>34</td>\n",
       "      <td>3.0</td>\n",
       "      <td>active</td>\n",
       "      <td>3.0</td>\n",
       "      <td>1</td>\n",
       "      <td>5</td>\n",
       "    </tr>\n",
       "    <tr>\n",
       "      <th>1</th>\n",
       "      <td>2</td>\n",
       "      <td>31</td>\n",
       "      <td>3.0</td>\n",
       "      <td>lightly active</td>\n",
       "      <td>3.0</td>\n",
       "      <td>3</td>\n",
       "      <td>3</td>\n",
       "    </tr>\n",
       "    <tr>\n",
       "      <th>2</th>\n",
       "      <td>3</td>\n",
       "      <td>18</td>\n",
       "      <td>0.0</td>\n",
       "      <td>lightly active</td>\n",
       "      <td>4.0</td>\n",
       "      <td>1</td>\n",
       "      <td>1</td>\n",
       "    </tr>\n",
       "    <tr>\n",
       "      <th>3</th>\n",
       "      <td>4</td>\n",
       "      <td>42</td>\n",
       "      <td>4.0</td>\n",
       "      <td>active</td>\n",
       "      <td>4.0</td>\n",
       "      <td>1</td>\n",
       "      <td>4</td>\n",
       "    </tr>\n",
       "    <tr>\n",
       "      <th>4</th>\n",
       "      <td>5</td>\n",
       "      <td>30</td>\n",
       "      <td>1.0</td>\n",
       "      <td>lightly active</td>\n",
       "      <td>1.0</td>\n",
       "      <td>4</td>\n",
       "      <td>3</td>\n",
       "    </tr>\n",
       "  </tbody>\n",
       "</table>\n",
       "</div>"
      ],
      "text/plain": [
       "   survey_id  age  number_of_children  activity_level  sleep_quality  \\\n",
       "0          1   34                 3.0          active            3.0   \n",
       "1          2   31                 3.0  lightly active            3.0   \n",
       "2          3   18                 0.0  lightly active            4.0   \n",
       "3          4   42                 4.0          active            4.0   \n",
       "4          5   30                 1.0  lightly active            1.0   \n",
       "\n",
       "   number_of_snoozes alarm_rating  \n",
       "0                  1            5  \n",
       "1                  3            3  \n",
       "2                  1            1  \n",
       "3                  1            4  \n",
       "4                  4            3  "
      ]
     },
     "execution_count": 24,
     "metadata": {},
     "output_type": "execute_result"
    }
   ],
   "source": [
    "alarm_survey_data.head()"
   ]
  },
  {
   "cell_type": "code",
   "execution_count": 36,
   "metadata": {},
   "outputs": [
    {
     "data": {
      "text/plain": [
       "<Axes: xlabel='number_of_snoozes'>"
      ]
     },
     "execution_count": 36,
     "metadata": {},
     "output_type": "execute_result"
    },
    {
     "data": {
      "image/png": "[encoded data removed]",
      "text/plain": [
       "<Figure size 640x480 with 1 Axes>"
      ]
     },
     "metadata": {},
     "output_type": "display_data"
    }
   ],
   "source": [
    "sns.boxplot(x=alarm_survey_data.number_of_snoozes)"
   ]
  },
  {
   "cell_type": "code",
   "execution_count": 42,
   "metadata": {},
   "outputs": [
    {
     "data": {
      "text/html": [
       "<div>\n",
       "<style scoped>\n",
       "    .dataframe tbody tr th:only-of-type {\n",
       "        vertical-align: middle;\n",
       "    }\n",
       "\n",
       "    .dataframe tbody tr th {\n",
       "        vertical-align: top;\n",
       "    }\n",
       "\n",
       "    .dataframe thead th {\n",
       "        text-align: right;\n",
       "    }\n",
       "</style>\n",
       "<table border=\"1\" class=\"dataframe\">\n",
       "  <thead>\n",
       "    <tr style=\"text-align: right;\">\n",
       "      <th></th>\n",
       "      <th>survey_id</th>\n",
       "      <th>age</th>\n",
       "      <th>number_of_children</th>\n",
       "      <th>activity_level</th>\n",
       "      <th>sleep_quality</th>\n",
       "      <th>number_of_snoozes</th>\n",
       "      <th>alarm_rating</th>\n",
       "    </tr>\n",
       "  </thead>\n",
       "  <tbody>\n",
       "    <tr>\n",
       "      <th>749</th>\n",
       "      <td>750</td>\n",
       "      <td>19</td>\n",
       "      <td>1.0</td>\n",
       "      <td>lightly active</td>\n",
       "      <td>5.0</td>\n",
       "      <td>19</td>\n",
       "      <td>3</td>\n",
       "    </tr>\n",
       "  </tbody>\n",
       "</table>\n",
       "</div>"
      ],
      "text/plain": [
       "     survey_id  age  number_of_children  activity_level  sleep_quality  \\\n",
       "749        750   19                 1.0  lightly active            5.0   \n",
       "\n",
       "     number_of_snoozes alarm_rating  \n",
       "749                 19            3  "
      ]
     },
     "execution_count": 42,
     "metadata": {},
     "output_type": "execute_result"
    }
   ],
   "source": [
    "alarm_survey_data[alarm_survey_data.number_of_snoozes > 12]\n"
   ]
  },
  {
   "cell_type": "code",
   "execution_count": 47,
   "metadata": {},
   "outputs": [],
   "source": [
    "mean_snoozes = alarm_survey_data.number_of_snoozes.mean()\n",
    "std_snoozes = alarm_survey_data.number_of_snoozes.std()"
   ]
  },
  {
   "cell_type": "code",
   "execution_count": 48,
   "metadata": {},
   "outputs": [
    {
     "data": {
      "text/plain": [
       "(1.157869934024505, 1.6035281562013566)"
      ]
     },
     "execution_count": 48,
     "metadata": {},
     "output_type": "execute_result"
    }
   ],
   "source": [
    "mean_snoozes, std_snoozes"
   ]
  },
  {
   "cell_type": "code",
   "execution_count": 49,
   "metadata": {},
   "outputs": [
    {
     "data": {
      "text/plain": [
       "(-3.6527145345795646, 5.968454402628575)"
      ]
     },
     "execution_count": 49,
     "metadata": {},
     "output_type": "execute_result"
    }
   ],
   "source": [
    "min_snoozes = mean_snoozes - 3*std_snoozes\n",
    "max_snoozes = mean_snoozes + 3*std_snoozes\n",
    "min_snoozes, max_snoozes"
   ]
  },
  {
   "cell_type": "code",
   "execution_count": 52,
   "metadata": {},
   "outputs": [
    {
     "data": {
      "text/html": [
       "<div>\n",
       "<style scoped>\n",
       "    .dataframe tbody tr th:only-of-type {\n",
       "        vertical-align: middle;\n",
       "    }\n",
       "\n",
       "    .dataframe tbody tr th {\n",
       "        vertical-align: top;\n",
       "    }\n",
       "\n",
       "    .dataframe thead th {\n",
       "        text-align: right;\n",
       "    }\n",
       "</style>\n",
       "<table border=\"1\" class=\"dataframe\">\n",
       "  <thead>\n",
       "    <tr style=\"text-align: right;\">\n",
       "      <th></th>\n",
       "      <th>survey_id</th>\n",
       "      <th>age</th>\n",
       "      <th>number_of_children</th>\n",
       "      <th>activity_level</th>\n",
       "      <th>sleep_quality</th>\n",
       "      <th>number_of_snoozes</th>\n",
       "      <th>alarm_rating</th>\n",
       "    </tr>\n",
       "  </thead>\n",
       "  <tbody>\n",
       "    <tr>\n",
       "      <th>735</th>\n",
       "      <td>736</td>\n",
       "      <td>34</td>\n",
       "      <td>3.0</td>\n",
       "      <td>active</td>\n",
       "      <td>3.0</td>\n",
       "      <td>8</td>\n",
       "      <td>3</td>\n",
       "    </tr>\n",
       "    <tr>\n",
       "      <th>749</th>\n",
       "      <td>750</td>\n",
       "      <td>19</td>\n",
       "      <td>1.0</td>\n",
       "      <td>lightly active</td>\n",
       "      <td>5.0</td>\n",
       "      <td>19</td>\n",
       "      <td>3</td>\n",
       "    </tr>\n",
       "    <tr>\n",
       "      <th>950</th>\n",
       "      <td>951</td>\n",
       "      <td>33</td>\n",
       "      <td>2.0</td>\n",
       "      <td>active</td>\n",
       "      <td>4.0</td>\n",
       "      <td>8</td>\n",
       "      <td>3</td>\n",
       "    </tr>\n",
       "    <tr>\n",
       "      <th>1583</th>\n",
       "      <td>1584</td>\n",
       "      <td>45</td>\n",
       "      <td>4.0</td>\n",
       "      <td>very active</td>\n",
       "      <td>5.0</td>\n",
       "      <td>7</td>\n",
       "      <td>5</td>\n",
       "    </tr>\n",
       "  </tbody>\n",
       "</table>\n",
       "</div>"
      ],
      "text/plain": [
       "      survey_id  age  number_of_children  activity_level  sleep_quality  \\\n",
       "735         736   34                 3.0          active            3.0   \n",
       "749         750   19                 1.0  lightly active            5.0   \n",
       "950         951   33                 2.0          active            4.0   \n",
       "1583       1584   45                 4.0     very active            5.0   \n",
       "\n",
       "      number_of_snoozes alarm_rating  \n",
       "735                   8            3  \n",
       "749                  19            3  \n",
       "950                   8            3  \n",
       "1583                  7            5  "
      ]
     },
     "execution_count": 52,
     "metadata": {},
     "output_type": "execute_result"
    }
   ],
   "source": [
    "alarm_survey_data[alarm_survey_data['number_of_snoozes'] > 6]"
   ]
  },
  {
   "cell_type": "code",
   "execution_count": 54,
   "metadata": {},
   "outputs": [],
   "source": [
    "alarm_survey_data = alarm_survey_data[alarm_survey_data['number_of_snoozes'] < 19]"
   ]
  },
  {
   "cell_type": "markdown",
   "metadata": {},
   "source": [
    "## 6. Data Issues Check"
   ]
  },
  {
   "cell_type": "markdown",
   "metadata": {},
   "source": [
    "* Quickly explore the updated DataFrame. How do things look now after handling the data issues compared to the original DataFrame?"
   ]
  },
  {
   "cell_type": "code",
   "execution_count": 55,
   "metadata": {},
   "outputs": [
    {
     "name": "stdout",
     "output_type": "stream",
     "text": [
      "<class 'pandas.core.frame.DataFrame'>\n",
      "Index: 6365 entries, 0 to 6365\n",
      "Data columns (total 7 columns):\n",
      " #   Column              Non-Null Count  Dtype  \n",
      "---  ------              --------------  -----  \n",
      " 0   survey_id           6365 non-null   int64  \n",
      " 1   age                 6365 non-null   int64  \n",
      " 2   number_of_children  6365 non-null   float64\n",
      " 3   activity_level      6365 non-null   object \n",
      " 4   sleep_quality       6365 non-null   float64\n",
      " 5   number_of_snoozes   6365 non-null   int64  \n",
      " 6   alarm_rating        6365 non-null   object \n",
      "dtypes: float64(2), int64(3), object(2)\n",
      "memory usage: 397.8+ KB\n"
     ]
    }
   ],
   "source": [
    "alarm_survey_data.info()"
   ]
  },
  {
   "cell_type": "code",
   "execution_count": 57,
   "metadata": {},
   "outputs": [
    {
     "data": {
      "text/plain": [
       "survey_id               int64\n",
       "age                     int64\n",
       "number_of_children    float64\n",
       "activity_level         object\n",
       "sleep_quality         float64\n",
       "number_of_snoozes       int64\n",
       "alarm_rating           object\n",
       "dtype: object"
      ]
     },
     "execution_count": 57,
     "metadata": {},
     "output_type": "execute_result"
    }
   ],
   "source": [
    "alarm_survey_data.dtypes"
   ]
  },
  {
   "cell_type": "code",
   "execution_count": 58,
   "metadata": {},
   "outputs": [
    {
     "data": {
      "text/html": [
       "<div>\n",
       "<style scoped>\n",
       "    .dataframe tbody tr th:only-of-type {\n",
       "        vertical-align: middle;\n",
       "    }\n",
       "\n",
       "    .dataframe tbody tr th {\n",
       "        vertical-align: top;\n",
       "    }\n",
       "\n",
       "    .dataframe thead th {\n",
       "        text-align: right;\n",
       "    }\n",
       "</style>\n",
       "<table border=\"1\" class=\"dataframe\">\n",
       "  <thead>\n",
       "    <tr style=\"text-align: right;\">\n",
       "      <th></th>\n",
       "      <th>survey_id</th>\n",
       "      <th>age</th>\n",
       "      <th>number_of_children</th>\n",
       "      <th>sleep_quality</th>\n",
       "      <th>number_of_snoozes</th>\n",
       "    </tr>\n",
       "  </thead>\n",
       "  <tbody>\n",
       "    <tr>\n",
       "      <th>count</th>\n",
       "      <td>6365.000000</td>\n",
       "      <td>6365.000000</td>\n",
       "      <td>6365.000000</td>\n",
       "      <td>6365.000000</td>\n",
       "      <td>6365.000000</td>\n",
       "    </tr>\n",
       "    <tr>\n",
       "      <th>mean</th>\n",
       "      <td>3183.882325</td>\n",
       "      <td>29.076826</td>\n",
       "      <td>1.396936</td>\n",
       "      <td>4.107620</td>\n",
       "      <td>1.155067</td>\n",
       "    </tr>\n",
       "    <tr>\n",
       "      <th>std</th>\n",
       "      <td>1837.741432</td>\n",
       "      <td>7.476376</td>\n",
       "      <td>1.433575</td>\n",
       "      <td>0.963612</td>\n",
       "      <td>1.587979</td>\n",
       "    </tr>\n",
       "    <tr>\n",
       "      <th>min</th>\n",
       "      <td>1.000000</td>\n",
       "      <td>13.000000</td>\n",
       "      <td>0.000000</td>\n",
       "      <td>1.000000</td>\n",
       "      <td>0.000000</td>\n",
       "    </tr>\n",
       "    <tr>\n",
       "      <th>25%</th>\n",
       "      <td>1593.000000</td>\n",
       "      <td>23.000000</td>\n",
       "      <td>0.000000</td>\n",
       "      <td>4.000000</td>\n",
       "      <td>0.000000</td>\n",
       "    </tr>\n",
       "    <tr>\n",
       "      <th>50%</th>\n",
       "      <td>3184.000000</td>\n",
       "      <td>28.000000</td>\n",
       "      <td>1.000000</td>\n",
       "      <td>4.000000</td>\n",
       "      <td>0.000000</td>\n",
       "    </tr>\n",
       "    <tr>\n",
       "      <th>75%</th>\n",
       "      <td>4775.000000</td>\n",
       "      <td>34.000000</td>\n",
       "      <td>2.000000</td>\n",
       "      <td>5.000000</td>\n",
       "      <td>2.000000</td>\n",
       "    </tr>\n",
       "    <tr>\n",
       "      <th>max</th>\n",
       "      <td>6366.000000</td>\n",
       "      <td>47.000000</td>\n",
       "      <td>5.500000</td>\n",
       "      <td>5.000000</td>\n",
       "      <td>8.000000</td>\n",
       "    </tr>\n",
       "  </tbody>\n",
       "</table>\n",
       "</div>"
      ],
      "text/plain": [
       "         survey_id          age  number_of_children  sleep_quality  \\\n",
       "count  6365.000000  6365.000000         6365.000000    6365.000000   \n",
       "mean   3183.882325    29.076826            1.396936       4.107620   \n",
       "std    1837.741432     7.476376            1.433575       0.963612   \n",
       "min       1.000000    13.000000            0.000000       1.000000   \n",
       "25%    1593.000000    23.000000            0.000000       4.000000   \n",
       "50%    3184.000000    28.000000            1.000000       4.000000   \n",
       "75%    4775.000000    34.000000            2.000000       5.000000   \n",
       "max    6366.000000    47.000000            5.500000       5.000000   \n",
       "\n",
       "       number_of_snoozes  \n",
       "count        6365.000000  \n",
       "mean            1.155067  \n",
       "std             1.587979  \n",
       "min             0.000000  \n",
       "25%             0.000000  \n",
       "50%             0.000000  \n",
       "75%             2.000000  \n",
       "max             8.000000  "
      ]
     },
     "execution_count": 58,
     "metadata": {},
     "output_type": "execute_result"
    }
   ],
   "source": [
    "alarm_survey_data.describe()"
   ]
  },
  {
   "cell_type": "code",
   "execution_count": 59,
   "metadata": {},
   "outputs": [
    {
     "data": {
      "text/plain": [
       "activity_level\n",
       "lightly active    3287\n",
       "active            2422\n",
       "very active        656\n",
       "Name: count, dtype: int64"
      ]
     },
     "execution_count": 59,
     "metadata": {},
     "output_type": "execute_result"
    }
   ],
   "source": [
    "alarm_survey_data['activity_level'].value_counts()"
   ]
  },
  {
   "cell_type": "markdown",
   "metadata": {},
   "source": [
    "## 7. Create Columns From Numeric Data"
   ]
  },
  {
   "cell_type": "markdown",
   "metadata": {},
   "source": [
    "* Read data into Python\n",
    "* Check the data type of each column\n",
    "* Create a numeric column using arithmetic\n",
    "* Create a numeric column using conditional logic"
   ]
  },
  {
   "cell_type": "code",
   "execution_count": 25,
   "metadata": {},
   "outputs": [],
   "source": [
    "# Create a “Total Spend” column that includes both the pen cost and shipping cost for each sale\n",
    "# Create a “Free Shipping” column that says yes if the sale included free shipping, and no otherwise"
   ]
  },
  {
   "cell_type": "code",
   "execution_count": 61,
   "metadata": {},
   "outputs": [],
   "source": [
    "df = pd.read_excel('../Data/Pen Sales Data.xlsx')"
   ]
  },
  {
   "cell_type": "code",
   "execution_count": 63,
   "metadata": {},
   "outputs": [
    {
     "data": {
      "text/html": [
       "<div>\n",
       "<style scoped>\n",
       "    .dataframe tbody tr th:only-of-type {\n",
       "        vertical-align: middle;\n",
       "    }\n",
       "\n",
       "    .dataframe tbody tr th {\n",
       "        vertical-align: top;\n",
       "    }\n",
       "\n",
       "    .dataframe thead th {\n",
       "        text-align: right;\n",
       "    }\n",
       "</style>\n",
       "<table border=\"1\" class=\"dataframe\">\n",
       "  <thead>\n",
       "    <tr style=\"text-align: right;\">\n",
       "      <th></th>\n",
       "      <th>Customer</th>\n",
       "      <th>Item</th>\n",
       "      <th>Pen Cost</th>\n",
       "      <th>Shipping Cost</th>\n",
       "      <th>Purchase Date</th>\n",
       "      <th>Delivery Date</th>\n",
       "      <th>Review</th>\n",
       "    </tr>\n",
       "  </thead>\n",
       "  <tbody>\n",
       "    <tr>\n",
       "      <th>0</th>\n",
       "      <td>5201</td>\n",
       "      <td>Ballpoint Pens</td>\n",
       "      <td>5.99</td>\n",
       "      <td>2.99</td>\n",
       "      <td>2023-05-01</td>\n",
       "      <td>2023-05-03</td>\n",
       "      <td>DoodleWithMe|I love the way this pen writes, b...</td>\n",
       "    </tr>\n",
       "    <tr>\n",
       "      <th>1</th>\n",
       "      <td>5202</td>\n",
       "      <td>Sharpies</td>\n",
       "      <td>12.99</td>\n",
       "      <td>0.00</td>\n",
       "      <td>2023-05-01</td>\n",
       "      <td>2023-05-04</td>\n",
       "      <td>ScribbleMaster|The classic Sharpie marker has ...</td>\n",
       "    </tr>\n",
       "    <tr>\n",
       "      <th>2</th>\n",
       "      <td>5203</td>\n",
       "      <td>Ballpoint Pens (Bold)</td>\n",
       "      <td>6.95</td>\n",
       "      <td>4.99</td>\n",
       "      <td>2023-05-01</td>\n",
       "      <td>2023-05-02</td>\n",
       "      <td>PenPalForever|The retractable ballpoint pen ha...</td>\n",
       "    </tr>\n",
       "    <tr>\n",
       "      <th>3</th>\n",
       "      <td>5204</td>\n",
       "      <td>Gel Pens</td>\n",
       "      <td>5.99</td>\n",
       "      <td>2.99</td>\n",
       "      <td>2023-05-01</td>\n",
       "      <td>2023-05-04</td>\n",
       "      <td>TheWriteWay|This gel pen has a comfortable gri...</td>\n",
       "    </tr>\n",
       "    <tr>\n",
       "      <th>4</th>\n",
       "      <td>5205</td>\n",
       "      <td>Rollerball Pens</td>\n",
       "      <td>12.99</td>\n",
       "      <td>1.99</td>\n",
       "      <td>2023-05-01</td>\n",
       "      <td>2023-05-03</td>\n",
       "      <td>PenAndPaperPerson|The rollerball pen has a smo...</td>\n",
       "    </tr>\n",
       "  </tbody>\n",
       "</table>\n",
       "</div>"
      ],
      "text/plain": [
       "   Customer                   Item  Pen Cost  Shipping Cost Purchase Date  \\\n",
       "0      5201         Ballpoint Pens      5.99           2.99    2023-05-01   \n",
       "1      5202               Sharpies     12.99           0.00    2023-05-01   \n",
       "2      5203  Ballpoint Pens (Bold)      6.95           4.99    2023-05-01   \n",
       "3      5204               Gel Pens      5.99           2.99    2023-05-01   \n",
       "4      5205        Rollerball Pens     12.99           1.99    2023-05-01   \n",
       "\n",
       "  Delivery Date                                             Review  \n",
       "0    2023-05-03  DoodleWithMe|I love the way this pen writes, b...  \n",
       "1    2023-05-04  ScribbleMaster|The classic Sharpie marker has ...  \n",
       "2    2023-05-02  PenPalForever|The retractable ballpoint pen ha...  \n",
       "3    2023-05-04  TheWriteWay|This gel pen has a comfortable gri...  \n",
       "4    2023-05-03  PenAndPaperPerson|The rollerball pen has a smo...  "
      ]
     },
     "execution_count": 63,
     "metadata": {},
     "output_type": "execute_result"
    }
   ],
   "source": [
    "df.head()"
   ]
  },
  {
   "cell_type": "code",
   "execution_count": 64,
   "metadata": {},
   "outputs": [],
   "source": [
    "df['Total Spend'] = df['Pen Cost'] + df['Shipping Cost']\n",
    "df['Free Shipping'] = np.where(df['Shipping Cost'] == 0, 'yes', 'no')"
   ]
  },
  {
   "cell_type": "code",
   "execution_count": 65,
   "metadata": {},
   "outputs": [
    {
     "data": {
      "text/html": [
       "<div>\n",
       "<style scoped>\n",
       "    .dataframe tbody tr th:only-of-type {\n",
       "        vertical-align: middle;\n",
       "    }\n",
       "\n",
       "    .dataframe tbody tr th {\n",
       "        vertical-align: top;\n",
       "    }\n",
       "\n",
       "    .dataframe thead th {\n",
       "        text-align: right;\n",
       "    }\n",
       "</style>\n",
       "<table border=\"1\" class=\"dataframe\">\n",
       "  <thead>\n",
       "    <tr style=\"text-align: right;\">\n",
       "      <th></th>\n",
       "      <th>Customer</th>\n",
       "      <th>Item</th>\n",
       "      <th>Pen Cost</th>\n",
       "      <th>Shipping Cost</th>\n",
       "      <th>Purchase Date</th>\n",
       "      <th>Delivery Date</th>\n",
       "      <th>Review</th>\n",
       "      <th>Total Spend</th>\n",
       "      <th>Free Shipping</th>\n",
       "    </tr>\n",
       "  </thead>\n",
       "  <tbody>\n",
       "    <tr>\n",
       "      <th>0</th>\n",
       "      <td>5201</td>\n",
       "      <td>Ballpoint Pens</td>\n",
       "      <td>5.99</td>\n",
       "      <td>2.99</td>\n",
       "      <td>2023-05-01</td>\n",
       "      <td>2023-05-03</td>\n",
       "      <td>DoodleWithMe|I love the way this pen writes, b...</td>\n",
       "      <td>8.98</td>\n",
       "      <td>no</td>\n",
       "    </tr>\n",
       "    <tr>\n",
       "      <th>1</th>\n",
       "      <td>5202</td>\n",
       "      <td>Sharpies</td>\n",
       "      <td>12.99</td>\n",
       "      <td>0.00</td>\n",
       "      <td>2023-05-01</td>\n",
       "      <td>2023-05-04</td>\n",
       "      <td>ScribbleMaster|The classic Sharpie marker has ...</td>\n",
       "      <td>12.99</td>\n",
       "      <td>yes</td>\n",
       "    </tr>\n",
       "    <tr>\n",
       "      <th>2</th>\n",
       "      <td>5203</td>\n",
       "      <td>Ballpoint Pens (Bold)</td>\n",
       "      <td>6.95</td>\n",
       "      <td>4.99</td>\n",
       "      <td>2023-05-01</td>\n",
       "      <td>2023-05-02</td>\n",
       "      <td>PenPalForever|The retractable ballpoint pen ha...</td>\n",
       "      <td>11.94</td>\n",
       "      <td>no</td>\n",
       "    </tr>\n",
       "    <tr>\n",
       "      <th>3</th>\n",
       "      <td>5204</td>\n",
       "      <td>Gel Pens</td>\n",
       "      <td>5.99</td>\n",
       "      <td>2.99</td>\n",
       "      <td>2023-05-01</td>\n",
       "      <td>2023-05-04</td>\n",
       "      <td>TheWriteWay|This gel pen has a comfortable gri...</td>\n",
       "      <td>8.98</td>\n",
       "      <td>no</td>\n",
       "    </tr>\n",
       "    <tr>\n",
       "      <th>4</th>\n",
       "      <td>5205</td>\n",
       "      <td>Rollerball Pens</td>\n",
       "      <td>12.99</td>\n",
       "      <td>1.99</td>\n",
       "      <td>2023-05-01</td>\n",
       "      <td>2023-05-03</td>\n",
       "      <td>PenAndPaperPerson|The rollerball pen has a smo...</td>\n",
       "      <td>14.98</td>\n",
       "      <td>no</td>\n",
       "    </tr>\n",
       "  </tbody>\n",
       "</table>\n",
       "</div>"
      ],
      "text/plain": [
       "   Customer                   Item  Pen Cost  Shipping Cost Purchase Date  \\\n",
       "0      5201         Ballpoint Pens      5.99           2.99    2023-05-01   \n",
       "1      5202               Sharpies     12.99           0.00    2023-05-01   \n",
       "2      5203  Ballpoint Pens (Bold)      6.95           4.99    2023-05-01   \n",
       "3      5204               Gel Pens      5.99           2.99    2023-05-01   \n",
       "4      5205        Rollerball Pens     12.99           1.99    2023-05-01   \n",
       "\n",
       "  Delivery Date                                             Review  \\\n",
       "0    2023-05-03  DoodleWithMe|I love the way this pen writes, b...   \n",
       "1    2023-05-04  ScribbleMaster|The classic Sharpie marker has ...   \n",
       "2    2023-05-02  PenPalForever|The retractable ballpoint pen ha...   \n",
       "3    2023-05-04  TheWriteWay|This gel pen has a comfortable gri...   \n",
       "4    2023-05-03  PenAndPaperPerson|The rollerball pen has a smo...   \n",
       "\n",
       "   Total Spend Free Shipping  \n",
       "0         8.98            no  \n",
       "1        12.99           yes  \n",
       "2        11.94            no  \n",
       "3         8.98            no  \n",
       "4        14.98            no  "
      ]
     },
     "execution_count": 65,
     "metadata": {},
     "output_type": "execute_result"
    }
   ],
   "source": [
    "df.head()"
   ]
  },
  {
   "cell_type": "markdown",
   "metadata": {},
   "source": [
    "## 8. Create Columns From DateTime Data"
   ]
  },
  {
   "cell_type": "markdown",
   "metadata": {},
   "source": [
    "* Calculate the difference between two datetime columns and save it as a new column\n",
    "* Take the average of a column"
   ]
  },
  {
   "cell_type": "code",
   "execution_count": 26,
   "metadata": {},
   "outputs": [],
   "source": [
    "# Calculate the number of days between the purchase and delivery date for each sale\n",
    "# Save it as a new column called “Delivery Time”\n",
    "# What were the average days from purchase to delivery?"
   ]
  },
  {
   "cell_type": "code",
   "execution_count": 82,
   "metadata": {},
   "outputs": [],
   "source": [
    "df['Delivery Time'] = df['Delivery Date'] - df['Purchase Date']\n"
   ]
  },
  {
   "cell_type": "code",
   "execution_count": 83,
   "metadata": {},
   "outputs": [
    {
     "data": {
      "text/plain": [
       "Timedelta('3 days 05:45:36')"
      ]
     },
     "execution_count": 83,
     "metadata": {},
     "output_type": "execute_result"
    }
   ],
   "source": [
    "df['Delivery Time'].mean()"
   ]
  },
  {
   "cell_type": "code",
   "execution_count": 77,
   "metadata": {},
   "outputs": [],
   "source": [
    "df['Delivery Time'] = df['Delivery Time'].astype(str)\n",
    "df['Delivery Time'] = df['Delivery Time'].str.replace(' days','')\n",
    "df['Delivery Time'] = df['Delivery Time'].astype(int)"
   ]
  },
  {
   "cell_type": "code",
   "execution_count": 80,
   "metadata": {},
   "outputs": [
    {
     "data": {
      "text/plain": [
       "3.24"
      ]
     },
     "execution_count": 80,
     "metadata": {},
     "output_type": "execute_result"
    }
   ],
   "source": [
    "df['Delivery Time'].mean()"
   ]
  },
  {
   "cell_type": "code",
   "execution_count": null,
   "metadata": {},
   "outputs": [],
   "source": []
  },
  {
   "cell_type": "markdown",
   "metadata": {},
   "source": [
    "## 9. Create Columns From Text Data"
   ]
  },
  {
   "cell_type": "markdown",
   "metadata": {},
   "source": [
    "* Split one column into multiple columns\n",
    "* Create a Boolean column (True / False) to show whether a text field contains particular words"
   ]
  },
  {
   "cell_type": "code",
   "execution_count": 27,
   "metadata": {},
   "outputs": [],
   "source": [
    "# Split the reviews on the “|” character to create two new columns: “User Name” and “Review Text”\n",
    "# Create a “Leak or Spill” column that flags the reviews that mention either “leak” or “spill”"
   ]
  },
  {
   "cell_type": "code",
   "execution_count": 84,
   "metadata": {},
   "outputs": [
    {
     "data": {
      "text/html": [
       "<div>\n",
       "<style scoped>\n",
       "    .dataframe tbody tr th:only-of-type {\n",
       "        vertical-align: middle;\n",
       "    }\n",
       "\n",
       "    .dataframe tbody tr th {\n",
       "        vertical-align: top;\n",
       "    }\n",
       "\n",
       "    .dataframe thead th {\n",
       "        text-align: right;\n",
       "    }\n",
       "</style>\n",
       "<table border=\"1\" class=\"dataframe\">\n",
       "  <thead>\n",
       "    <tr style=\"text-align: right;\">\n",
       "      <th></th>\n",
       "      <th>Customer</th>\n",
       "      <th>Item</th>\n",
       "      <th>Pen Cost</th>\n",
       "      <th>Shipping Cost</th>\n",
       "      <th>Purchase Date</th>\n",
       "      <th>Delivery Date</th>\n",
       "      <th>Review</th>\n",
       "      <th>Total Spend</th>\n",
       "      <th>Free Shipping</th>\n",
       "      <th>Delivery Time</th>\n",
       "    </tr>\n",
       "  </thead>\n",
       "  <tbody>\n",
       "    <tr>\n",
       "      <th>0</th>\n",
       "      <td>5201</td>\n",
       "      <td>Ballpoint Pens</td>\n",
       "      <td>5.99</td>\n",
       "      <td>2.99</td>\n",
       "      <td>2023-05-01</td>\n",
       "      <td>2023-05-03</td>\n",
       "      <td>DoodleWithMe|I love the way this pen writes, b...</td>\n",
       "      <td>8.98</td>\n",
       "      <td>no</td>\n",
       "      <td>2 days</td>\n",
       "    </tr>\n",
       "    <tr>\n",
       "      <th>1</th>\n",
       "      <td>5202</td>\n",
       "      <td>Sharpies</td>\n",
       "      <td>12.99</td>\n",
       "      <td>0.00</td>\n",
       "      <td>2023-05-01</td>\n",
       "      <td>2023-05-04</td>\n",
       "      <td>ScribbleMaster|The classic Sharpie marker has ...</td>\n",
       "      <td>12.99</td>\n",
       "      <td>yes</td>\n",
       "      <td>3 days</td>\n",
       "    </tr>\n",
       "    <tr>\n",
       "      <th>2</th>\n",
       "      <td>5203</td>\n",
       "      <td>Ballpoint Pens (Bold)</td>\n",
       "      <td>6.95</td>\n",
       "      <td>4.99</td>\n",
       "      <td>2023-05-01</td>\n",
       "      <td>2023-05-02</td>\n",
       "      <td>PenPalForever|The retractable ballpoint pen ha...</td>\n",
       "      <td>11.94</td>\n",
       "      <td>no</td>\n",
       "      <td>1 days</td>\n",
       "    </tr>\n",
       "    <tr>\n",
       "      <th>3</th>\n",
       "      <td>5204</td>\n",
       "      <td>Gel Pens</td>\n",
       "      <td>5.99</td>\n",
       "      <td>2.99</td>\n",
       "      <td>2023-05-01</td>\n",
       "      <td>2023-05-04</td>\n",
       "      <td>TheWriteWay|This gel pen has a comfortable gri...</td>\n",
       "      <td>8.98</td>\n",
       "      <td>no</td>\n",
       "      <td>3 days</td>\n",
       "    </tr>\n",
       "    <tr>\n",
       "      <th>4</th>\n",
       "      <td>5205</td>\n",
       "      <td>Rollerball Pens</td>\n",
       "      <td>12.99</td>\n",
       "      <td>1.99</td>\n",
       "      <td>2023-05-01</td>\n",
       "      <td>2023-05-03</td>\n",
       "      <td>PenAndPaperPerson|The rollerball pen has a smo...</td>\n",
       "      <td>14.98</td>\n",
       "      <td>no</td>\n",
       "      <td>2 days</td>\n",
       "    </tr>\n",
       "  </tbody>\n",
       "</table>\n",
       "</div>"
      ],
      "text/plain": [
       "   Customer                   Item  Pen Cost  Shipping Cost Purchase Date  \\\n",
       "0      5201         Ballpoint Pens      5.99           2.99    2023-05-01   \n",
       "1      5202               Sharpies     12.99           0.00    2023-05-01   \n",
       "2      5203  Ballpoint Pens (Bold)      6.95           4.99    2023-05-01   \n",
       "3      5204               Gel Pens      5.99           2.99    2023-05-01   \n",
       "4      5205        Rollerball Pens     12.99           1.99    2023-05-01   \n",
       "\n",
       "  Delivery Date                                             Review  \\\n",
       "0    2023-05-03  DoodleWithMe|I love the way this pen writes, b...   \n",
       "1    2023-05-04  ScribbleMaster|The classic Sharpie marker has ...   \n",
       "2    2023-05-02  PenPalForever|The retractable ballpoint pen ha...   \n",
       "3    2023-05-04  TheWriteWay|This gel pen has a comfortable gri...   \n",
       "4    2023-05-03  PenAndPaperPerson|The rollerball pen has a smo...   \n",
       "\n",
       "   Total Spend Free Shipping Delivery Time  \n",
       "0         8.98            no        2 days  \n",
       "1        12.99           yes        3 days  \n",
       "2        11.94            no        1 days  \n",
       "3         8.98            no        3 days  \n",
       "4        14.98            no        2 days  "
      ]
     },
     "execution_count": 84,
     "metadata": {},
     "output_type": "execute_result"
    }
   ],
   "source": [
    "df.head()"
   ]
  },
  {
   "cell_type": "code",
   "execution_count": 89,
   "metadata": {},
   "outputs": [],
   "source": [
    "df[['User Name', 'Review Text']] = pd.DataFrame(df.Review.str.split('|').to_list())"
   ]
  },
  {
   "cell_type": "code",
   "execution_count": 100,
   "metadata": {},
   "outputs": [],
   "source": [
    "df['Leak or Spill'] = df['Review Text'].str.lower().str.contains('leak|spill', regex = True)"
   ]
  },
  {
   "cell_type": "code",
   "execution_count": 101,
   "metadata": {},
   "outputs": [
    {
     "data": {
      "text/html": [
       "<div>\n",
       "<style scoped>\n",
       "    .dataframe tbody tr th:only-of-type {\n",
       "        vertical-align: middle;\n",
       "    }\n",
       "\n",
       "    .dataframe tbody tr th {\n",
       "        vertical-align: top;\n",
       "    }\n",
       "\n",
       "    .dataframe thead th {\n",
       "        text-align: right;\n",
       "    }\n",
       "</style>\n",
       "<table border=\"1\" class=\"dataframe\">\n",
       "  <thead>\n",
       "    <tr style=\"text-align: right;\">\n",
       "      <th></th>\n",
       "      <th>Customer</th>\n",
       "      <th>Item</th>\n",
       "      <th>Pen Cost</th>\n",
       "      <th>Shipping Cost</th>\n",
       "      <th>Purchase Date</th>\n",
       "      <th>Delivery Date</th>\n",
       "      <th>Review</th>\n",
       "      <th>Total Spend</th>\n",
       "      <th>Free Shipping</th>\n",
       "      <th>Delivery Time</th>\n",
       "      <th>User Name</th>\n",
       "      <th>Review Text</th>\n",
       "      <th>Leak or Spill</th>\n",
       "    </tr>\n",
       "  </thead>\n",
       "  <tbody>\n",
       "    <tr>\n",
       "      <th>0</th>\n",
       "      <td>5201</td>\n",
       "      <td>Ballpoint Pens</td>\n",
       "      <td>5.99</td>\n",
       "      <td>2.99</td>\n",
       "      <td>2023-05-01</td>\n",
       "      <td>2023-05-03</td>\n",
       "      <td>DoodleWithMe|I love the way this pen writes, b...</td>\n",
       "      <td>8.98</td>\n",
       "      <td>no</td>\n",
       "      <td>2 days</td>\n",
       "      <td>DoodleWithMe</td>\n",
       "      <td>I love the way this pen writes, but unfortunat...</td>\n",
       "      <td>True</td>\n",
       "    </tr>\n",
       "    <tr>\n",
       "      <th>1</th>\n",
       "      <td>5202</td>\n",
       "      <td>Sharpies</td>\n",
       "      <td>12.99</td>\n",
       "      <td>0.00</td>\n",
       "      <td>2023-05-01</td>\n",
       "      <td>2023-05-04</td>\n",
       "      <td>ScribbleMaster|The classic Sharpie marker has ...</td>\n",
       "      <td>12.99</td>\n",
       "      <td>yes</td>\n",
       "      <td>3 days</td>\n",
       "      <td>ScribbleMaster</td>\n",
       "      <td>The classic Sharpie marker has a bold, permane...</td>\n",
       "      <td>False</td>\n",
       "    </tr>\n",
       "    <tr>\n",
       "      <th>2</th>\n",
       "      <td>5203</td>\n",
       "      <td>Ballpoint Pens (Bold)</td>\n",
       "      <td>6.95</td>\n",
       "      <td>4.99</td>\n",
       "      <td>2023-05-01</td>\n",
       "      <td>2023-05-02</td>\n",
       "      <td>PenPalForever|The retractable ballpoint pen ha...</td>\n",
       "      <td>11.94</td>\n",
       "      <td>no</td>\n",
       "      <td>1 days</td>\n",
       "      <td>PenPalForever</td>\n",
       "      <td>The retractable ballpoint pen has a durable, m...</td>\n",
       "      <td>False</td>\n",
       "    </tr>\n",
       "    <tr>\n",
       "      <th>3</th>\n",
       "      <td>5204</td>\n",
       "      <td>Gel Pens</td>\n",
       "      <td>5.99</td>\n",
       "      <td>2.99</td>\n",
       "      <td>2023-05-01</td>\n",
       "      <td>2023-05-04</td>\n",
       "      <td>TheWriteWay|This gel pen has a comfortable gri...</td>\n",
       "      <td>8.98</td>\n",
       "      <td>no</td>\n",
       "      <td>3 days</td>\n",
       "      <td>TheWriteWay</td>\n",
       "      <td>This gel pen has a comfortable grip and writes...</td>\n",
       "      <td>False</td>\n",
       "    </tr>\n",
       "    <tr>\n",
       "      <th>4</th>\n",
       "      <td>5205</td>\n",
       "      <td>Rollerball Pens</td>\n",
       "      <td>12.99</td>\n",
       "      <td>1.99</td>\n",
       "      <td>2023-05-01</td>\n",
       "      <td>2023-05-03</td>\n",
       "      <td>PenAndPaperPerson|The rollerball pen has a smo...</td>\n",
       "      <td>14.98</td>\n",
       "      <td>no</td>\n",
       "      <td>2 days</td>\n",
       "      <td>PenAndPaperPerson</td>\n",
       "      <td>The rollerball pen has a smooth, fluid feel an...</td>\n",
       "      <td>False</td>\n",
       "    </tr>\n",
       "  </tbody>\n",
       "</table>\n",
       "</div>"
      ],
      "text/plain": [
       "   Customer                   Item  Pen Cost  Shipping Cost Purchase Date  \\\n",
       "0      5201         Ballpoint Pens      5.99           2.99    2023-05-01   \n",
       "1      5202               Sharpies     12.99           0.00    2023-05-01   \n",
       "2      5203  Ballpoint Pens (Bold)      6.95           4.99    2023-05-01   \n",
       "3      5204               Gel Pens      5.99           2.99    2023-05-01   \n",
       "4      5205        Rollerball Pens     12.99           1.99    2023-05-01   \n",
       "\n",
       "  Delivery Date                                             Review  \\\n",
       "0    2023-05-03  DoodleWithMe|I love the way this pen writes, b...   \n",
       "1    2023-05-04  ScribbleMaster|The classic Sharpie marker has ...   \n",
       "2    2023-05-02  PenPalForever|The retractable ballpoint pen ha...   \n",
       "3    2023-05-04  TheWriteWay|This gel pen has a comfortable gri...   \n",
       "4    2023-05-03  PenAndPaperPerson|The rollerball pen has a smo...   \n",
       "\n",
       "   Total Spend Free Shipping Delivery Time          User Name  \\\n",
       "0         8.98            no        2 days       DoodleWithMe   \n",
       "1        12.99           yes        3 days     ScribbleMaster   \n",
       "2        11.94            no        1 days      PenPalForever   \n",
       "3         8.98            no        3 days        TheWriteWay   \n",
       "4        14.98            no        2 days  PenAndPaperPerson   \n",
       "\n",
       "                                         Review Text  Leak or Spill  \n",
       "0  I love the way this pen writes, but unfortunat...           True  \n",
       "1  The classic Sharpie marker has a bold, permane...          False  \n",
       "2  The retractable ballpoint pen has a durable, m...          False  \n",
       "3  This gel pen has a comfortable grip and writes...          False  \n",
       "4  The rollerball pen has a smooth, fluid feel an...          False  "
      ]
     },
     "execution_count": 101,
     "metadata": {},
     "output_type": "execute_result"
    }
   ],
   "source": [
    "df.head()"
   ]
  },
  {
   "cell_type": "code",
   "execution_count": null,
   "metadata": {},
   "outputs": [],
   "source": []
  }
 ],
 "metadata": {
  "kernelspec": {
   "display_name": "Python 3 (ipykernel)",
   "language": "python",
   "name": "python3"
  },
  "language_info": {
   "codemirror_mode": {
    "name": "ipython",
    "version": 3
   },
   "file_extension": ".py",
   "mimetype": "text/x-python",
   "name": "python",
   "nbconvert_exporter": "python",
   "pygments_lexer": "ipython3",
   "version": "3.11.5"
  }
 },
 "nbformat": 4,
 "nbformat_minor": 4
}
